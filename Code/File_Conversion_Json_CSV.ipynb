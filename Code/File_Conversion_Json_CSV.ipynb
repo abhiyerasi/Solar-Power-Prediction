{
 "cells": [
  {
   "cell_type": "markdown",
   "metadata": {},
   "source": [
    "# Solar Energy Power Predictions"
   ]
  },
  {
   "cell_type": "code",
   "execution_count": 1,
   "metadata": {
    "collapsed": true
   },
   "outputs": [],
   "source": [
    "# Import the required libraries\n",
    "import json\n",
    "import re\n",
    "import json\n",
    "import pandas as pd\n",
    "from pandas.io.json import json_normalize"
   ]
  },
  {
   "cell_type": "code",
   "execution_count": 2,
   "metadata": {
    "collapsed": true
   },
   "outputs": [],
   "source": [
    "# load the json file and convert to dataframe\n",
    "json_data = json.load(open('Total MVA (MVA).json'))\n",
    "rawFrame = pd.DataFrame(json_data)"
   ]
  },
  {
   "cell_type": "code",
   "execution_count": 3,
   "metadata": {
    "collapsed": true
   },
   "outputs": [],
   "source": [
    "# \n",
    "cols=rawFrame.index\n",
    "for i in cols:\n",
    "    unitsRawSeries = rawFrame.loc[i]\n",
    "    tempDF = pd.DataFrame(columns=['Date','Time','UnitsConsumed'])\n",
    "    tempDF =pd.DataFrame()\n",
    "    \n",
    "    data  = []\n",
    "    for dateitem, valuesobj in unitsRawSeries.items():\n",
    "        for k,v in valuesobj.items():\n",
    "            data.append([dateitem, k, v])\n",
    "    tempDF = pd.DataFrame(data, columns=['Date','Time','UnitsConsumed'])\n",
    "    tempDF.to_csv(\"DF\"+i+\".csv\",index=False)"
   ]
  }
 ],
 "metadata": {
  "kernelspec": {
   "display_name": "Python 3",
   "language": "python",
   "name": "python3"
  },
  "language_info": {
   "codemirror_mode": {
    "name": "ipython",
    "version": 3
   },
   "file_extension": ".py",
   "mimetype": "text/x-python",
   "name": "python",
   "nbconvert_exporter": "python",
   "pygments_lexer": "ipython3",
   "version": "3.6.3"
  }
 },
 "nbformat": 4,
 "nbformat_minor": 2
}
